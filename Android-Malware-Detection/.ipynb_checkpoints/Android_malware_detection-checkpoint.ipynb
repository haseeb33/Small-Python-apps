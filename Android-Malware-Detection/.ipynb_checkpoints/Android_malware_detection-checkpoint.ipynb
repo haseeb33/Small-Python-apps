{
 "cells": [
  {
   "cell_type": "code",
   "execution_count": 50,
   "metadata": {},
   "outputs": [],
   "source": [
    "import pandas as pd\n",
    "import numpy as np\n",
    "import keras\n",
    "import time\n",
    "import pickle\n",
    "\n",
    "# Keras models and layers\n",
    "from keras.models import Sequential\n",
    "from keras.layers import LSTM, Dense, Dropout\n",
    "from keras.preprocessing.text import Tokenizer\n",
    "from keras.preprocessing import sequence\n",
    "\n",
    "# Sklearn Models and metrics\n",
    "import sklearn\n",
    "from sklearn.model_selection import train_test_split\n",
    "from sklearn.metrics import precision_score, recall_score, f1_score, accuracy_score\n",
    "from sklearn.metrics import confusion_matrix\n",
    "from sklearn.preprocessing import StandardScaler\n",
    "from sklearn.pipeline import make_pipeline\n",
    "from sklearn.linear_model import LogisticRegression, SGDClassifier\n",
    "from sklearn.naive_bayes import GaussianNB\n",
    "from sklearn.tree import DecisionTreeClassifier\n",
    "from sklearn.feature_selection import SelectFromModel\n",
    "from sklearn.ensemble import RandomForestClassifier\n",
    "from sklearn.svm import SVC\n",
    "from sklearn import ensemble\n",
    "\n",
    "#For Visualization\n",
    "import matplotlib\n",
    "import matplotlib.pyplot as plt"
   ]
  },
  {
   "cell_type": "markdown",
   "metadata": {},
   "source": [
    "# Development Environment (3.6.8 Anaconda)"
   ]
  },
  {
   "cell_type": "code",
   "execution_count": 51,
   "metadata": {},
   "outputs": [
    {
     "name": "stdout",
     "output_type": "stream",
     "text": [
      "Numpy version 1.18.5\n",
      "Pandas version 1.0.5\n",
      "keras version 2.3.1\n",
      "sklearn version 0.23.1\n",
      "Matplotlib version 3.2.2\n"
     ]
    }
   ],
   "source": [
    "print(\"Numpy version\", np.__version__)\n",
    "print(\"Pandas version\", pd.__version__)\n",
    "print(\"keras version\", keras.__version__)\n",
    "print(\"sklearn version\", sklearn.__version__)\n",
    "print(\"Matplotlib version\", matplotlib.__version__)"
   ]
  },
  {
   "cell_type": "code",
   "execution_count": 52,
   "metadata": {},
   "outputs": [],
   "source": [
    "def read_file(f):\n",
    "    f = open(f, \"r\")\n",
    "    data = f.readlines()\n",
    "    f.close()\n",
    "    return data"
   ]
  },
  {
   "cell_type": "code",
   "execution_count": 53,
   "metadata": {},
   "outputs": [],
   "source": [
    "def validation_scores(X_test, y_test, model, isDNN=True):\n",
    "    #loss, accuracy = model.evaluate(X_test, y_test)\n",
    "    #print(\"\\nLoss: %.2f, Accuracy: %.2f%%\" % (loss, accuracy*100))\n",
    "    expected = y_test\n",
    "    if isDNN:\n",
    "        predicted = model.predict_classes(X_test)\n",
    "    else:\n",
    "        predicted = model.predict(X_test)\n",
    "    accuracy = accuracy_score(expected, predicted)\n",
    "    precision = precision_score(expected, predicted, zero_division=1)\n",
    "    recall = recall_score(expected, predicted, average=\"binary\", zero_division=1)\n",
    "    f1 = f1_score(expected, predicted , average=\"binary\", zero_division=1)\n",
    "    \n",
    "    print(\"accuracy\", \"%.3f\" %accuracy)\n",
    "    print(\"precision\", \"%.3f\" %precision)\n",
    "    print(\"recall\", \"%.3f\" %recall)\n",
    "    print(\"f-score\", \"%.3f\" %f1)\n",
    "    print(\"Confusion Matrix\")\n",
    "    print(confusion_matrix(expected, predicted))\n",
    "    return [accuracy, precision, recall, f1]"
   ]
  },
  {
   "cell_type": "markdown",
   "metadata": {},
   "source": [
    "## Input Data"
   ]
  },
  {
   "cell_type": "code",
   "execution_count": 54,
   "metadata": {},
   "outputs": [],
   "source": [
    "features = read_file('Permissions.Train.csv')\n",
    "labels = pd.read_csv('Label.Train.csv', header=None)"
   ]
  },
  {
   "cell_type": "markdown",
   "metadata": {},
   "source": [
    "## Tokenization and padding of Features"
   ]
  },
  {
   "cell_type": "code",
   "execution_count": 55,
   "metadata": {},
   "outputs": [],
   "source": [
    "tk = Tokenizer(num_words=500,filters='!\"#$%&()*+,-./:;<=>?@[\\\\]^`{|}~\\t\\n', lower=True, split=\" \")\n",
    "tk.fit_on_texts(features)\n",
    "X = tk.texts_to_sequences(features)\n",
    "X = sequence.pad_sequences(X, maxlen=250, padding='post') # Only 250-element feature vector "
   ]
  },
  {
   "cell_type": "markdown",
   "metadata": {},
   "source": [
    "# ML Algorithmic Solutions"
   ]
  },
  {
   "cell_type": "markdown",
   "metadata": {},
   "source": [
    "### Data preparation for ML model training"
   ]
  },
  {
   "cell_type": "code",
   "execution_count": 56,
   "metadata": {},
   "outputs": [],
   "source": [
    "Y = np.array([i[0] for i in labels.values.tolist()])\n",
    "Y = np.where(Y==-1, 0, Y)\n",
    "X_train, X_test, y_train, y_test = train_test_split(X, Y, test_size=0.2, random_state=42)"
   ]
  },
  {
   "cell_type": "markdown",
   "metadata": {},
   "source": [
    "### Logistic Regression Model"
   ]
  },
  {
   "cell_type": "code",
   "execution_count": 57,
   "metadata": {},
   "outputs": [
    {
     "name": "stdout",
     "output_type": "stream",
     "text": [
      "Training data accuracy 0.7892545278137129\n",
      "Model training took 9.024520874023438 seconds\n"
     ]
    }
   ],
   "source": [
    "start_time = time.time()\n",
    "lg_model = LogisticRegression(max_iter=len(X_train))\n",
    "lg_model.fit(X_train, y_train)\n",
    "print(\"Training data accuracy\", lg_model.score(X_train, y_train))\n",
    "print(\"Model training took {} seconds\".format(time.time()-start_time))"
   ]
  },
  {
   "cell_type": "code",
   "execution_count": 58,
   "metadata": {},
   "outputs": [
    {
     "name": "stdout",
     "output_type": "stream",
     "text": [
      "accuracy 0.783\n",
      "precision 0.417\n",
      "recall 0.100\n",
      "f-score 0.161\n",
      "Confusion Matrix\n",
      "[[4710  180]\n",
      " [1165  129]]\n"
     ]
    }
   ],
   "source": [
    "lg_metrics = validation_scores(X_test, y_test, lg_model, isDNN=False)"
   ]
  },
  {
   "cell_type": "markdown",
   "metadata": {},
   "source": [
    "### Gaussian Naive Bayes"
   ]
  },
  {
   "cell_type": "code",
   "execution_count": 59,
   "metadata": {},
   "outputs": [
    {
     "name": "stdout",
     "output_type": "stream",
     "text": [
      "Training data accuracy 0.21114974126778785\n",
      "Model training took 0.3095409870147705 seconds\n"
     ]
    }
   ],
   "source": [
    "start_time = time.time()\n",
    "gnb = GaussianNB()\n",
    "gnb.fit(X_train, y_train)\n",
    "print(\"Training data accuracy\", gnb.score(X_train, y_train))\n",
    "print(\"Model training took {} seconds\".format(time.time()-start_time))"
   ]
  },
  {
   "cell_type": "code",
   "execution_count": 60,
   "metadata": {},
   "outputs": [
    {
     "name": "stdout",
     "output_type": "stream",
     "text": [
      "accuracy 0.211\n",
      "precision 0.209\n",
      "recall 0.995\n",
      "f-score 0.345\n",
      "Confusion Matrix\n",
      "[[  18 4872]\n",
      " [   7 1287]]\n"
     ]
    }
   ],
   "source": [
    "gnb_metrics = validation_scores(X_test, y_test, gnb, isDNN=False)"
   ]
  },
  {
   "cell_type": "markdown",
   "metadata": {},
   "source": [
    "### Stochastic Gradient Descent"
   ]
  },
  {
   "cell_type": "code",
   "execution_count": 61,
   "metadata": {},
   "outputs": [
    {
     "name": "stdout",
     "output_type": "stream",
     "text": [
      "Training data accuracy 0.8013421733505821\n",
      "Model training took 2.0356557369232178 seconds\n"
     ]
    }
   ],
   "source": [
    "start_time = time.time()\n",
    "# Always scale the input. The most convenient way is to use a pipeline.\n",
    "sgd = make_pipeline(StandardScaler(),\n",
    "                    SGDClassifier(max_iter=len(X_train), tol=1e-3))\n",
    "sgd.fit(X_train, y_train)\n",
    "print(\"Training data accuracy\", sgd.score(X_train, y_train))\n",
    "print(\"Model training took {} seconds\".format(time.time()-start_time))"
   ]
  },
  {
   "cell_type": "code",
   "execution_count": 62,
   "metadata": {},
   "outputs": [
    {
     "name": "stdout",
     "output_type": "stream",
     "text": [
      "accuracy 0.797\n",
      "precision 0.554\n",
      "recall 0.147\n",
      "f-score 0.232\n",
      "Confusion Matrix\n",
      "[[4737  153]\n",
      " [1104  190]]\n"
     ]
    }
   ],
   "source": [
    "sgd_metrics = validation_scores(X_test, y_test, sgd, isDNN=False)"
   ]
  },
  {
   "cell_type": "markdown",
   "metadata": {},
   "source": [
    "### Decision Trees"
   ]
  },
  {
   "cell_type": "code",
   "execution_count": 63,
   "metadata": {},
   "outputs": [
    {
     "name": "stdout",
     "output_type": "stream",
     "text": [
      "Training data accuracy 0.846822445019405\n",
      "Model training took 0.20146512985229492 seconds\n"
     ]
    }
   ],
   "source": [
    "start_time = time.time()\n",
    "dt = DecisionTreeClassifier(random_state=0, max_depth=2)\n",
    "dt.fit(X_train, y_train)\n",
    "print(\"Training data accuracy\", dt.score(X_train, y_train))\n",
    "print(\"Model training took {} seconds\".format(time.time()-start_time))"
   ]
  },
  {
   "cell_type": "code",
   "execution_count": 64,
   "metadata": {},
   "outputs": [
    {
     "name": "stdout",
     "output_type": "stream",
     "text": [
      "accuracy 0.842\n",
      "precision 0.652\n",
      "recall 0.519\n",
      "f-score 0.578\n",
      "Confusion Matrix\n",
      "[[4532  358]\n",
      " [ 622  672]]\n"
     ]
    }
   ],
   "source": [
    "dt_metrics = validation_scores(X_test, y_test, dt, isDNN=False)"
   ]
  },
  {
   "cell_type": "markdown",
   "metadata": {},
   "source": [
    "### Random Forest Classifier"
   ]
  },
  {
   "cell_type": "code",
   "execution_count": 65,
   "metadata": {},
   "outputs": [
    {
     "name": "stdout",
     "output_type": "stream",
     "text": [
      "Training data accuracy 0.7916801423027167\n",
      "Model training took 2.166524887084961 seconds\n"
     ]
    }
   ],
   "source": [
    "start_time = time.time()\n",
    "rfc = RandomForestClassifier(max_depth=2, random_state=0)\n",
    "rfc.fit(X_train, y_train)\n",
    "print(\"Training data accuracy\", rfc.score(X_train, y_train))\n",
    "print(\"Model training took {} seconds\".format(time.time()-start_time))"
   ]
  },
  {
   "cell_type": "code",
   "execution_count": 66,
   "metadata": {},
   "outputs": [
    {
     "name": "stdout",
     "output_type": "stream",
     "text": [
      "accuracy 0.791\n",
      "precision 1.000\n",
      "recall 0.000\n",
      "f-score 0.000\n",
      "Confusion Matrix\n",
      "[[4890    0]\n",
      " [1294    0]]\n"
     ]
    }
   ],
   "source": [
    "rfc_metrics = validation_scores(X_test, y_test, rfc, isDNN=False)"
   ]
  },
  {
   "cell_type": "markdown",
   "metadata": {},
   "source": [
    "### Support Vector Machines"
   ]
  },
  {
   "cell_type": "code",
   "execution_count": 67,
   "metadata": {},
   "outputs": [
    {
     "name": "stdout",
     "output_type": "stream",
     "text": [
      "Training data accuracy 0.8557163648124192\n",
      "Model training took 359.9845509529114 seconds\n"
     ]
    }
   ],
   "source": [
    "start_time = time.time()\n",
    "svc = make_pipeline(StandardScaler(), SVC(gamma='auto'))\n",
    "svc.fit(X_train, y_train)\n",
    "print(\"Training data accuracy\", svc.score(X_train, y_train))\n",
    "print(\"Model training took {} seconds\".format(time.time()-start_time))"
   ]
  },
  {
   "cell_type": "code",
   "execution_count": 68,
   "metadata": {},
   "outputs": [
    {
     "name": "stdout",
     "output_type": "stream",
     "text": [
      "accuracy 0.855\n",
      "precision 0.741\n",
      "recall 0.469\n",
      "f-score 0.575\n",
      "Confusion Matrix\n",
      "[[4678  212]\n",
      " [ 687  607]]\n"
     ]
    }
   ],
   "source": [
    "svc_metrics = validation_scores(X_test, y_test, svc, isDNN=False)"
   ]
  },
  {
   "cell_type": "markdown",
   "metadata": {},
   "source": [
    "# Deep Learning Based Solutions"
   ]
  },
  {
   "cell_type": "markdown",
   "metadata": {},
   "source": [
    "### Data preparation for DNN model training"
   ]
  },
  {
   "cell_type": "code",
   "execution_count": 20,
   "metadata": {},
   "outputs": [],
   "source": [
    "X = np.array(X).reshape(len(X), 1, 250) #LSTM require data in (instances, time-steps, features)\n",
    "X_train, X_test, y_train, y_test = train_test_split(X, Y, test_size=0.2, random_state=42)\n",
    "batch_size = 32"
   ]
  },
  {
   "cell_type": "markdown",
   "metadata": {},
   "source": [
    "### 1 Layer LSTM Sequential Model"
   ]
  },
  {
   "cell_type": "code",
   "execution_count": 21,
   "metadata": {},
   "outputs": [
    {
     "name": "stdout",
     "output_type": "stream",
     "text": [
      "Epoch 1/10\n",
      "24736/24736 [==============================] - 2s 83us/step - loss: 0.4449 - accuracy: 0.8321\n",
      "Epoch 2/10\n",
      "24736/24736 [==============================] - 1s 57us/step - loss: 0.3721 - accuracy: 0.8555\n",
      "Epoch 3/10\n",
      "24736/24736 [==============================] - 1s 57us/step - loss: 0.3534 - accuracy: 0.8627\n",
      "Epoch 4/10\n",
      "24736/24736 [==============================] - 1s 58us/step - loss: 0.3413 - accuracy: 0.8680\n",
      "Epoch 5/10\n",
      "24736/24736 [==============================] - 1s 57us/step - loss: 0.3332 - accuracy: 0.8709\n",
      "Epoch 6/10\n",
      "24736/24736 [==============================] - 1s 57us/step - loss: 0.3288 - accuracy: 0.8725\n",
      "Epoch 7/10\n",
      "24736/24736 [==============================] - 1s 57us/step - loss: 0.3242 - accuracy: 0.8721\n",
      "Epoch 8/10\n",
      "24736/24736 [==============================] - 1s 57us/step - loss: 0.3204 - accuracy: 0.8750\n",
      "Epoch 9/10\n",
      "24736/24736 [==============================] - 1s 60us/step - loss: 0.3180 - accuracy: 0.8756\n",
      "Epoch 10/10\n",
      "24736/24736 [==============================] - 1s 57us/step - loss: 0.3150 - accuracy: 0.8758\n",
      "Model training took 16.257761001586914 seconds\n"
     ]
    }
   ],
   "source": [
    "start_time = time.time()\n",
    "lstm_1 = Sequential()\n",
    "lstm_1.add(LSTM(units=10, activation='tanh', input_shape=(1,250))) #Experiment with different number of units\n",
    "lstm_1.add(Dropout(0.1))\n",
    "lstm_1.add(Dense(1, activation='sigmoid'))\n",
    "\n",
    "lstm_1.compile(loss='binary_crossentropy', optimizer='adam', metrics=['accuracy'])\n",
    "lstm_1.fit(X_train, y_train, epochs=10, batch_size=32)\n",
    "#lstm_1.save(\"logs/lstm_1_layer_model.hdf5\") #Uncomment to save the model\n",
    "print(\"Model training took {} seconds\".format(time.time()-start_time))"
   ]
  },
  {
   "cell_type": "code",
   "execution_count": 22,
   "metadata": {},
   "outputs": [
    {
     "name": "stdout",
     "output_type": "stream",
     "text": [
      "accuracy 0.882\n",
      "precision 0.793\n",
      "recall 0.588\n",
      "f-score 0.675\n",
      "Confusion Matrix\n",
      "[[4691  199]\n",
      " [ 533  761]]\n"
     ]
    }
   ],
   "source": [
    "lstm_1_metrics = validation_scores(X_test, y_test, lstm_1, isDNN=True)"
   ]
  },
  {
   "cell_type": "markdown",
   "metadata": {},
   "source": [
    "### 2 Layers LSTM Model"
   ]
  },
  {
   "cell_type": "code",
   "execution_count": 23,
   "metadata": {},
   "outputs": [
    {
     "name": "stdout",
     "output_type": "stream",
     "text": [
      "Epoch 1/10\n",
      "24736/24736 [==============================] - 4s 150us/step - loss: 0.4205 - accuracy: 0.8438\n",
      "Epoch 2/10\n",
      "24736/24736 [==============================] - 2s 84us/step - loss: 0.3362 - accuracy: 0.8679\n",
      "Epoch 3/10\n",
      "24736/24736 [==============================] - 2s 86us/step - loss: 0.3191 - accuracy: 0.8752\n",
      "Epoch 4/10\n",
      "24736/24736 [==============================] - 2s 84us/step - loss: 0.3098 - accuracy: 0.8806\n",
      "Epoch 5/10\n",
      "24736/24736 [==============================] - 2s 84us/step - loss: 0.3036 - accuracy: 0.8819\n",
      "Epoch 6/10\n",
      "24736/24736 [==============================] - 2s 83us/step - loss: 0.3013 - accuracy: 0.8845\n",
      "Epoch 7/10\n",
      "24736/24736 [==============================] - 2s 84us/step - loss: 0.2984 - accuracy: 0.8858\n",
      "Epoch 8/10\n",
      "24736/24736 [==============================] - 2s 84us/step - loss: 0.2943 - accuracy: 0.8868\n",
      "Epoch 9/10\n",
      "24736/24736 [==============================] - 2s 82us/step - loss: 0.2916 - accuracy: 0.8874\n",
      "Epoch 10/10\n",
      "24736/24736 [==============================] - 2s 85us/step - loss: 0.2903 - accuracy: 0.8889\n",
      "Model training took 23.952800035476685 seconds\n"
     ]
    }
   ],
   "source": [
    "start_time = time.time()\n",
    "lstm_2 = Sequential()\n",
    "lstm_2.add(LSTM(units=20, activation='tanh', return_sequences=True, input_shape=(1,250)))\n",
    "lstm_2.add(Dropout(0.1))\n",
    "lstm_2.add(LSTM(units=10, activation='tanh', return_sequences=False))  # experiment using a GRU or RNN\n",
    "lstm_2.add(Dropout(0.1))\n",
    "lstm_2.add(Dense(1, activation='sigmoid'))\n",
    "\n",
    "lstm_2.compile(loss='binary_crossentropy', optimizer='adam', metrics=['accuracy'])\n",
    "lstm_2.fit(X_train, y_train, epochs=10, batch_size=32)\n",
    "#lstm_2.save(\"logs/lstm_2_layer_model.hdf5\") #Uncomment to save the model in local machine\n",
    "print(\"Model training took {} seconds\".format(time.time()-start_time))"
   ]
  },
  {
   "cell_type": "code",
   "execution_count": 24,
   "metadata": {},
   "outputs": [
    {
     "name": "stdout",
     "output_type": "stream",
     "text": [
      "accuracy 0.892\n",
      "precision 0.803\n",
      "recall 0.643\n",
      "f-score 0.714\n",
      "Confusion Matrix\n",
      "[[4686  204]\n",
      " [ 462  832]]\n"
     ]
    }
   ],
   "source": [
    "lstm_2_metrics = validation_scores(X_test, y_test, lstm_2, isDNN=True)"
   ]
  },
  {
   "cell_type": "markdown",
   "metadata": {},
   "source": [
    "### 3 Layers LSTM Model"
   ]
  },
  {
   "cell_type": "code",
   "execution_count": 25,
   "metadata": {},
   "outputs": [
    {
     "name": "stdout",
     "output_type": "stream",
     "text": [
      "Epoch 1/10\n",
      "24736/24736 [==============================] - 5s 191us/step - loss: 0.3995 - accuracy: 0.8520\n",
      "Epoch 2/10\n",
      "24736/24736 [==============================] - 3s 136us/step - loss: 0.3217 - accuracy: 0.8758\n",
      "Epoch 3/10\n",
      "24736/24736 [==============================] - 3s 140us/step - loss: 0.3049 - accuracy: 0.8829\n",
      "Epoch 4/10\n",
      "24736/24736 [==============================] - 3s 123us/step - loss: 0.2956 - accuracy: 0.8857\n",
      "Epoch 5/10\n",
      "24736/24736 [==============================] - 3s 121us/step - loss: 0.2892 - accuracy: 0.8892\n",
      "Epoch 6/10\n",
      "24736/24736 [==============================] - 3s 123us/step - loss: 0.2838 - accuracy: 0.8896\n",
      "Epoch 7/10\n",
      "24736/24736 [==============================] - 3s 124us/step - loss: 0.2791 - accuracy: 0.8935\n",
      "Epoch 8/10\n",
      "24736/24736 [==============================] - 3s 121us/step - loss: 0.2766 - accuracy: 0.8927\n",
      "Epoch 9/10\n",
      "24736/24736 [==============================] - 3s 121us/step - loss: 0.2734 - accuracy: 0.8933\n",
      "Epoch 10/10\n",
      "24736/24736 [==============================] - 3s 123us/step - loss: 0.2693 - accuracy: 0.8954\n",
      "Model training took 34.41223502159119 seconds\n"
     ]
    }
   ],
   "source": [
    "start_time = time.time()\n",
    "lstm_3 = Sequential()\n",
    "lstm_3.add(LSTM(units=50, activation='tanh', return_sequences=True, input_shape=(1,250)))\n",
    "lstm_3.add(Dropout(0.1))\n",
    "lstm_3.add(LSTM(units=20, activation='tanh', return_sequences=True))  \n",
    "lstm_3.add(Dropout(0.1))\n",
    "lstm_3.add(LSTM(units=10, activation='tanh', return_sequences=False))  \n",
    "lstm_3.add(Dropout(0.1))\n",
    "lstm_3.add(Dense(1, activation='sigmoid'))\n",
    "\n",
    "lstm_3.compile(loss='binary_crossentropy', optimizer='adam', metrics=['accuracy'])\n",
    "lstm_3.fit(X_train, y_train, epochs=10, batch_size=32)\n",
    "#lstm_3.save(\"logs/lstm_3_layer_model.hdf5\") #Uncomment to save the model\n",
    "print(\"Model training took {} seconds\".format(time.time()-start_time))"
   ]
  },
  {
   "cell_type": "code",
   "execution_count": 26,
   "metadata": {},
   "outputs": [
    {
     "name": "stdout",
     "output_type": "stream",
     "text": [
      "accuracy 0.893\n",
      "precision 0.818\n",
      "recall 0.627\n",
      "f-score 0.710\n",
      "Confusion Matrix\n",
      "[[4710  180]\n",
      " [ 483  811]]\n"
     ]
    }
   ],
   "source": [
    "lstm_3_metrics = validation_scores(X_test, y_test, lstm_3, isDNN=True)"
   ]
  },
  {
   "cell_type": "markdown",
   "metadata": {},
   "source": [
    "### 4 Layers LSTM Model"
   ]
  },
  {
   "cell_type": "code",
   "execution_count": 27,
   "metadata": {},
   "outputs": [
    {
     "name": "stdout",
     "output_type": "stream",
     "text": [
      "Epoch 1/10\n",
      "24736/24736 [==============================] - 6s 251us/step - loss: 0.3812 - accuracy: 0.8541\n",
      "Epoch 2/10\n",
      "24736/24736 [==============================] - 4s 170us/step - loss: 0.3131 - accuracy: 0.8814\n",
      "Epoch 3/10\n",
      "24736/24736 [==============================] - 4s 176us/step - loss: 0.2974 - accuracy: 0.8854\n",
      "Epoch 4/10\n",
      "24736/24736 [==============================] - 5s 189us/step - loss: 0.2873 - accuracy: 0.8892\n",
      "Epoch 5/10\n",
      "24736/24736 [==============================] - 4s 171us/step - loss: 0.2834 - accuracy: 0.8892\n",
      "Epoch 6/10\n",
      "24736/24736 [==============================] - 4s 173us/step - loss: 0.2755 - accuracy: 0.8921\n",
      "Epoch 7/10\n",
      "24736/24736 [==============================] - 4s 176us/step - loss: 0.2694 - accuracy: 0.8959\n",
      "Epoch 8/10\n",
      "24736/24736 [==============================] - 5s 184us/step - loss: 0.2660 - accuracy: 0.8966\n",
      "Epoch 9/10\n",
      "24736/24736 [==============================] - 4s 173us/step - loss: 0.2632 - accuracy: 0.8978\n",
      "Epoch 10/10\n",
      "24736/24736 [==============================] - 5s 218us/step - loss: 0.2594 - accuracy: 0.8970\n",
      "Model training took 48.63844895362854 seconds\n"
     ]
    }
   ],
   "source": [
    "start_time = time.time()\n",
    "lstm_4 = Sequential()\n",
    "lstm_4.add(LSTM(units=100, activation='tanh', return_sequences=True, input_shape=(1,250)))\n",
    "lstm_4.add(Dropout(0.1))\n",
    "lstm_4.add(LSTM(units=50, activation='tanh', return_sequences=True))  \n",
    "lstm_4.add(Dropout(0.1))\n",
    "lstm_4.add(LSTM(units=20, activation='tanh', return_sequences=True))  \n",
    "lstm_4.add(Dropout(0.1))\n",
    "lstm_4.add(LSTM(units=10, activation='tanh', return_sequences=False))  \n",
    "lstm_4.add(Dropout(0.1))\n",
    "lstm_4.add(Dense(1, activation='sigmoid'))\n",
    "\n",
    "lstm_4.compile(loss='binary_crossentropy', optimizer='adam', metrics=['accuracy'])\n",
    "lstm_4.fit(X_train, y_train, epochs=10, batch_size=32)\n",
    "#lstm_4.save(\"logs/lstm_4_layer_model.hdf5\") #Uncomment to save the model\n",
    "print(\"Model training took {} seconds\".format(time.time()-start_time))"
   ]
  },
  {
   "cell_type": "code",
   "execution_count": 28,
   "metadata": {},
   "outputs": [
    {
     "name": "stdout",
     "output_type": "stream",
     "text": [
      "accuracy 0.896\n",
      "precision 0.825\n",
      "recall 0.636\n",
      "f-score 0.718\n",
      "Confusion Matrix\n",
      "[[4716  174]\n",
      " [ 471  823]]\n"
     ]
    }
   ],
   "source": [
    "lstm_4_metrics = validation_scores(X_test, y_test, lstm_4, isDNN=True)"
   ]
  },
  {
   "cell_type": "markdown",
   "metadata": {},
   "source": [
    "### 5 Layers LSTM Model"
   ]
  },
  {
   "cell_type": "code",
   "execution_count": 29,
   "metadata": {},
   "outputs": [
    {
     "name": "stdout",
     "output_type": "stream",
     "text": [
      "Epoch 1/10\n",
      "24736/24736 [==============================] - 9s 367us/step - loss: 0.4092 - accuracy: 0.8431\n",
      "Epoch 2/10\n",
      "24736/24736 [==============================] - 8s 313us/step - loss: 0.3315 - accuracy: 0.8746\n",
      "Epoch 3/10\n",
      "24736/24736 [==============================] - 8s 314us/step - loss: 0.3086 - accuracy: 0.8814\n",
      "Epoch 4/10\n",
      "24736/24736 [==============================] - 7s 283us/step - loss: 0.2950 - accuracy: 0.8870\n",
      "Epoch 5/10\n",
      "24736/24736 [==============================] - 7s 279us/step - loss: 0.2845 - accuracy: 0.8889\n",
      "Epoch 6/10\n",
      "24736/24736 [==============================] - 7s 289us/step - loss: 0.2790 - accuracy: 0.8921\n",
      "Epoch 7/10\n",
      "24736/24736 [==============================] - 7s 288us/step - loss: 0.2727 - accuracy: 0.8947\n",
      "Epoch 8/10\n",
      "24736/24736 [==============================] - 7s 279us/step - loss: 0.2693 - accuracy: 0.8947\n",
      "Epoch 9/10\n",
      "24736/24736 [==============================] - 7s 279us/step - loss: 0.2637 - accuracy: 0.8972\n",
      "Epoch 10/10\n",
      "24736/24736 [==============================] - 7s 282us/step - loss: 0.2591 - accuracy: 0.8985\n",
      "Model training took 76.36011695861816 seconds\n"
     ]
    }
   ],
   "source": [
    "start_time = time.time()\n",
    "lstm_5 = Sequential()\n",
    "lstm_5.add(LSTM(units=200, activation='tanh', return_sequences=True, input_shape=(1,250)))\n",
    "lstm_5.add(Dropout(0.1))\n",
    "lstm_5.add(LSTM(units=100, activation='tanh', return_sequences=True))  \n",
    "lstm_5.add(Dropout(0.1))\n",
    "lstm_5.add(LSTM(units=50, activation='tanh', return_sequences=True))  \n",
    "lstm_5.add(Dropout(0.1))\n",
    "lstm_5.add(LSTM(units=20, activation='tanh', return_sequences=True))  \n",
    "lstm_5.add(Dropout(0.1))\n",
    "lstm_5.add(LSTM(units=10, activation='tanh', return_sequences=False))  \n",
    "lstm_5.add(Dropout(0.1))\n",
    "lstm_5.add(Dense(1, activation='sigmoid'))\n",
    "\n",
    "lstm_5.compile(loss='binary_crossentropy', optimizer='adam', metrics=['accuracy'])\n",
    "lstm_5.fit(X_train, y_train, epochs=10, batch_size=32)\n",
    "#lstm_5.save(\"logs/lstm_5_layer_model.hdf5\") #Uncomment to save the model\n",
    "print(\"Model training took {} seconds\".format(time.time()-start_time))"
   ]
  },
  {
   "cell_type": "code",
   "execution_count": 30,
   "metadata": {},
   "outputs": [
    {
     "name": "stdout",
     "output_type": "stream",
     "text": [
      "accuracy 0.899\n",
      "precision 0.857\n",
      "recall 0.619\n",
      "f-score 0.719\n",
      "Confusion Matrix\n",
      "[[4756  134]\n",
      " [ 493  801]]\n"
     ]
    }
   ],
   "source": [
    "lstm_5_metrics = validation_scores(X_test, y_test, lstm_5, isDNN=True)"
   ]
  },
  {
   "cell_type": "markdown",
   "metadata": {},
   "source": [
    "## Metrics Visualization"
   ]
  },
  {
   "cell_type": "code",
   "execution_count": 53,
   "metadata": {},
   "outputs": [
    {
     "data": {
      "text/plain": [
       "<matplotlib.legend.Legend at 0x194555dda0>"
      ]
     },
     "execution_count": 53,
     "metadata": {},
     "output_type": "execute_result"
    },
    {
     "data": {
      "image/png": "[encoded data removed]",
      "text/plain": [
       "<Figure size 432x288 with 1 Axes>"
      ]
     },
     "metadata": {
      "needs_background": "light"
     },
     "output_type": "display_data"
    }
   ],
   "source": [
    "import matplotlib.pyplot as plt\n",
    "data = [lg_metrics, gnb_metrics, sgd_metrics, dt_metrics, rfc_metrics, svc_metrics, \n",
    "        lstm_1_metrics, lstm_2_metrics, lstm_3_metrics, lstm_4_metrics, lstm_5_metrics]\n",
    "lagends = [\"Logistic Regression\", \"Naive Bayes\", \"Stochastic Gradient Descent\", \"Decision Tree\", \n",
    "           \"Random Forest\", \"Support Vector Machines\", \"LSTM_1\", \"LSTM_2\", \"LSTM_3\", \"LSTM_4\", \"LSTM_5\"]\n",
    "\n",
    "bar_width = 0.08\n",
    "X = np.arange(4)\n",
    "fig = plt.figure()\n",
    "ax = fig.add_axes([0,0,1,1])\n",
    "plt.xticks(X+0.45, ['Accuracy','Precision','Recall','F1_score'])\n",
    "ax.bar(X + 0*(bar_width), data[0], color = '#4d94ff', width = bar_width)\n",
    "ax.bar(X + 1*(bar_width), data[1], color = '#5cd6d6', width = bar_width)\n",
    "ax.bar(X + 2*(bar_width), data[2], color = '#33ffad', width = bar_width)\n",
    "ax.bar(X + 3*(bar_width), data[3], color = '#00802b', width = bar_width)\n",
    "ax.bar(X + 4*(bar_width), data[4], color = '#999966', width = bar_width)\n",
    "ax.bar(X + 5*(bar_width), data[5], color = '#b300b3', width = bar_width)\n",
    "ax.bar(X + 6*(bar_width), data[6], color = '#ff9999', width = bar_width)\n",
    "ax.bar(X + 7*(bar_width), data[7], color = '#ff4d4d', width = bar_width)\n",
    "ax.bar(X + 8*(bar_width), data[8], color = '#ff0000', width = bar_width)\n",
    "ax.bar(X + 9*(bar_width), data[9], color = '#b30000', width = bar_width)\n",
    "ax.bar(X + 10*(bar_width), data[10], color = '#660000', width = bar_width)\n",
    "plt.legend(lagends, bbox_to_anchor=(1, 1))"
   ]
  },
  {
   "cell_type": "markdown",
   "metadata": {},
   "source": [
    "# New Dataset"
   ]
  },
  {
   "cell_type": "code",
   "execution_count": 71,
   "metadata": {},
   "outputs": [],
   "source": [
    "data = pd.read_csv('train.csv', sep=';')\n",
    "X1 = data.drop(['type'], axis=1).values\n",
    "y = data['type'].values"
   ]
  },
  {
   "cell_type": "markdown",
   "metadata": {},
   "source": [
    "## Feature Selection"
   ]
  },
  {
   "cell_type": "code",
   "execution_count": 72,
   "metadata": {},
   "outputs": [
    {
     "name": "stdout",
     "output_type": "stream",
     "text": [
      "Researching important feature based on 330 total features\n",
      "\n",
      "38 features identified as important:\n",
      " 1. feature android.permission.READ_PRIVILEGED_PHONE_STATE (0.204593)\n",
      " 2. feature android.permission.ACCOUNT_MANAGER (0.073498)\n",
      " 3. feature android.permission.READ_SYNC_SETTINGS (0.072070)\n",
      " 4. feature android.permission.KILL_BACKGROUND_PROCESSES (0.051331)\n",
      " 5. feature android.permission.CLEAR_APP_CACHE (0.050380)\n",
      " 6. feature android.permission.ACCESS_PDB_STATE (0.047999)\n",
      " 7. feature android.permission.WRITE_SYNC_SETTINGS (0.047943)\n",
      " 8. feature android.permission.SET_ACTIVITY_WATCHER (0.036052)\n",
      " 9. feature android.permission.INTERACT_ACROSS_USERS_FULL (0.030516)\n",
      " 10. feature android.permission.RECORD_AUDIO (0.029584)\n",
      " 11. feature android.permission.RECEIVE_EMERGENCY_BROADCAST (0.028964)\n",
      " 12. feature android.permission.ACCESS_DOWNLOAD_MANAGER (0.022817)\n",
      " 13. feature android.permission.WRITE_MEDIA_STORAGE (0.020167)\n",
      " 14. feature android.permission.READ_EXTERNAL_STORAGE (0.018316)\n",
      " 15. feature android.permission.GLOBAL_SEARCH (0.016855)\n",
      " 16. feature android.permission.ACCESS_INPUT_FLINGER (0.015340)\n",
      " 17. feature android.permission.WRITE_EXTERNAL_STORAGE (0.015287)\n",
      " 18. feature android.permission.WRITE_CALENDAR (0.014718)\n",
      " 19. feature android.permission.WRITE_APN_SETTINGS (0.013872)\n",
      " 20. feature android.permission.CAMERA (0.013324)\n",
      " 21. feature android.permission.WRITE_CALL_LOG (0.011676)\n",
      " 22. feature com.android.certinstaller.INSTALL_AS_USER (0.009779)\n",
      " 23. feature android.permission.ACCESS_MTP (0.009535)\n",
      " 24. feature android.permission.DOWNLOAD_WITHOUT_NOTIFICATION (0.009197)\n",
      " 25. feature android.permission.GET_DETAILED_TASKS (0.008866)\n",
      " 26. feature android.permission.READ_PHONE_STATE (0.008525)\n",
      " 27. feature android.permission.NET_ADMIN (0.008521)\n",
      " 28. feature android.permission.SET_WALLPAPER_HINTS (0.006931)\n",
      " 29. feature android.permission.RETRIEVE_WINDOW_TOKEN (0.005723)\n",
      " 30. feature android.permission.BLUETOOTH_MAP (0.005149)\n",
      " 31. feature android.permission.READ_INPUT_STATE (0.005045)\n",
      " 32. feature com.android.cts.intent.sender.permission.SAMPLE (0.004494)\n",
      " 33. feature android.permission.MODIFY_PARENTAL_CONTROLS (0.004343)\n",
      " 34. feature android.permission.READ_CONTACTS (0.003940)\n",
      " 35. feature android.permission.CAPTURE_AUDIO_HOTWORD (0.003887)\n",
      " 36. feature android.permission.REGISTER_CALL_PROVIDER (0.003680)\n",
      " 37. feature android.permission.DIAGNOSTIC (0.003386)\n",
      " 38. feature android.permission.CALL_PHONE (0.003122)\n"
     ]
    }
   ],
   "source": [
    "print('Researching important feature based on %i total features\\n' % X1.shape[1])\n",
    "# Feature selection using Trees Classifier\n",
    "fsel = ensemble.ExtraTreesClassifier().fit(X1, y)\n",
    "\n",
    "model1 = SelectFromModel(fsel, prefit=True)\n",
    "X_new = model1.transform(X1)\n",
    "nb_features = X_new.shape[1]\n",
    "\n",
    "features = []\n",
    "\n",
    "print('%i features identified as important:' % nb_features)\n",
    "xnew = [0]*nb_features\n",
    "indices = np.argsort(fsel.feature_importances_)[::-1][:nb_features]\n",
    "for f in range(nb_features):\n",
    "    xnew[f]=data.columns[2+indices[f]];\n",
    "    print(\" %d. feature %s (%f)\" % (f + 1, data.columns[2+indices[f]], fsel.feature_importances_[indices[f]]))"
   ]
  },
  {
   "cell_type": "markdown",
   "metadata": {},
   "source": [
    "## Data Preparation"
   ]
  },
  {
   "cell_type": "code",
   "execution_count": 73,
   "metadata": {},
   "outputs": [],
   "source": [
    "res={}\n",
    "for f in range(X1.shape[1]):\n",
    "    res[data.columns[f]]=0\n",
    "for f in range(nb_features):\n",
    "    res[xnew[f]] = 1\n",
    "\n",
    "i=0\n",
    "xd = [0]*(X1.shape[1]-nb_features+1)\n",
    "for f in range(X1.shape[1]):\n",
    "    if(res[data.columns[f]]==0):\n",
    "        xd[i]=data.columns[f]\n",
    "        i=i+1\n",
    "\n",
    "xd[i]='type'\n",
    "xfinal = data.drop(xd,axis=1).values\n",
    "X = np.array(xfinal).reshape(len(xfinal), 1, nb_features)\n",
    "X_train, X_test, y_train, y_test = train_test_split(X, y, test_size = 0.2, random_state = 0)"
   ]
  },
  {
   "cell_type": "markdown",
   "metadata": {},
   "source": [
    "# Deep Learning Models"
   ]
  },
  {
   "cell_type": "markdown",
   "metadata": {},
   "source": [
    "### 1 Layer LSTM Sequential Model"
   ]
  },
  {
   "cell_type": "code",
   "execution_count": 75,
   "metadata": {},
   "outputs": [
    {
     "name": "stdout",
     "output_type": "stream",
     "text": [
      "Epoch 1/10\n",
      "318/318 [==============================] - 2s 6ms/step - loss: 0.6789 - accuracy: 0.5755\n",
      "Epoch 2/10\n",
      "318/318 [==============================] - 0s 734us/step - loss: 0.6447 - accuracy: 0.7579\n",
      "Epoch 3/10\n",
      "318/318 [==============================] - 0s 908us/step - loss: 0.6032 - accuracy: 0.8365\n",
      "Epoch 4/10\n",
      "318/318 [==============================] - 0s 879us/step - loss: 0.5512 - accuracy: 0.8774\n",
      "Epoch 5/10\n",
      "318/318 [==============================] - 0s 805us/step - loss: 0.5020 - accuracy: 0.9057\n",
      "Epoch 6/10\n",
      "318/318 [==============================] - 0s 747us/step - loss: 0.4557 - accuracy: 0.9151\n",
      "Epoch 7/10\n",
      "318/318 [==============================] - 0s 732us/step - loss: 0.4104 - accuracy: 0.9151\n",
      "Epoch 8/10\n",
      "318/318 [==============================] - 0s 757us/step - loss: 0.3667 - accuracy: 0.9182\n",
      "Epoch 9/10\n",
      "318/318 [==============================] - 0s 769us/step - loss: 0.3373 - accuracy: 0.9214\n",
      "Epoch 10/10\n",
      "318/318 [==============================] - 0s 762us/step - loss: 0.3090 - accuracy: 0.9214\n",
      "Model training took 7.703587770462036 seconds\n"
     ]
    }
   ],
   "source": [
    "start_time = time.time()\n",
    "lstm_1 = Sequential()\n",
    "lstm_1.add(LSTM(units=10, activation='tanh', input_shape=(1, nb_features))) #Experiment with different number of units\n",
    "lstm_1.add(Dropout(0.1))\n",
    "lstm_1.add(Dense(1, activation='sigmoid'))\n",
    "\n",
    "lstm_1.compile(loss='binary_crossentropy', optimizer='adam', metrics=['accuracy'])\n",
    "lstm_1.fit(X_train, y_train, epochs=10, batch_size=4)\n",
    "#lstm_1.save(\"logs/lstm_1_layer_model.hdf5\") #Uncomment to save the model\n",
    "print(\"Model training took {} seconds\".format(time.time()-start_time))"
   ]
  },
  {
   "cell_type": "code",
   "execution_count": 76,
   "metadata": {},
   "outputs": [
    {
     "name": "stdout",
     "output_type": "stream",
     "text": [
      "accuracy 0.900\n",
      "precision 0.878\n",
      "recall 0.956\n",
      "f-score 0.915\n",
      "Confusion Matrix\n",
      "[[29  6]\n",
      " [ 2 43]]\n"
     ]
    }
   ],
   "source": [
    "lstm_1_metrics = validation_scores(X_test, y_test, lstm_1, isDNN=True)"
   ]
  },
  {
   "cell_type": "markdown",
   "metadata": {},
   "source": [
    "### 2 Layers LSTM model"
   ]
  },
  {
   "cell_type": "code",
   "execution_count": 77,
   "metadata": {},
   "outputs": [
    {
     "name": "stdout",
     "output_type": "stream",
     "text": [
      "Epoch 1/10\n",
      "318/318 [==============================] - 3s 9ms/step - loss: 0.6925 - accuracy: 0.5660\n",
      "Epoch 2/10\n",
      "318/318 [==============================] - 0s 1ms/step - loss: 0.6711 - accuracy: 0.8836\n",
      "Epoch 3/10\n",
      "318/318 [==============================] - 0s 1ms/step - loss: 0.5827 - accuracy: 0.9088\n",
      "Epoch 4/10\n",
      "318/318 [==============================] - 0s 1ms/step - loss: 0.4597 - accuracy: 0.9119\n",
      "Epoch 5/10\n",
      "318/318 [==============================] - 0s 1ms/step - loss: 0.3685 - accuracy: 0.9182\n",
      "Epoch 6/10\n",
      "318/318 [==============================] - 0s 1ms/step - loss: 0.2922 - accuracy: 0.9182\n",
      "Epoch 7/10\n",
      "318/318 [==============================] - 0s 1ms/step - loss: 0.2543 - accuracy: 0.9277\n",
      "Epoch 8/10\n",
      "318/318 [==============================] - 0s 1ms/step - loss: 0.2384 - accuracy: 0.9277\n",
      "Epoch 9/10\n",
      "318/318 [==============================] - 0s 1ms/step - loss: 0.2202 - accuracy: 0.9340\n",
      "Epoch 10/10\n",
      "318/318 [==============================] - 0s 1ms/step - loss: 0.2180 - accuracy: 0.9371\n",
      "Model training took 9.695275068283081 seconds\n"
     ]
    }
   ],
   "source": [
    "start_time = time.time()\n",
    "lstm_2 = Sequential()\n",
    "lstm_2.add(LSTM(units=20, activation='tanh', return_sequences=True, input_shape=(1,nb_features)))\n",
    "lstm_2.add(Dropout(0.1))\n",
    "lstm_2.add(LSTM(units=10, activation='tanh', return_sequences=False))  # experiment using a GRU or RNN\n",
    "lstm_2.add(Dropout(0.1))\n",
    "lstm_2.add(Dense(1, activation='sigmoid'))\n",
    "\n",
    "lstm_2.compile(loss='binary_crossentropy', optimizer='adam', metrics=['accuracy'])\n",
    "lstm_2.fit(X_train, y_train, epochs=10, batch_size=4)\n",
    "#lstm_2.save(\"logs/lstm_2_layer_model.hdf5\") #Uncomment to save the model in local machine\n",
    "print(\"Model training took {} seconds\".format(time.time()-start_time))"
   ]
  },
  {
   "cell_type": "code",
   "execution_count": 78,
   "metadata": {},
   "outputs": [
    {
     "name": "stdout",
     "output_type": "stream",
     "text": [
      "accuracy 0.900\n",
      "precision 0.894\n",
      "recall 0.933\n",
      "f-score 0.913\n",
      "Confusion Matrix\n",
      "[[30  5]\n",
      " [ 3 42]]\n"
     ]
    }
   ],
   "source": [
    "lstm_2_metrics = validation_scores(X_test, y_test, lstm_2, isDNN=True)"
   ]
  },
  {
   "cell_type": "markdown",
   "metadata": {},
   "source": [
    "### 3 Layes LSTM Model"
   ]
  },
  {
   "cell_type": "code",
   "execution_count": 81,
   "metadata": {},
   "outputs": [
    {
     "name": "stdout",
     "output_type": "stream",
     "text": [
      "Epoch 1/10\n",
      "318/318 [==============================] - 4s 12ms/step - loss: 0.6894 - accuracy: 0.6667\n",
      "Epoch 2/10\n",
      "318/318 [==============================] - 0s 1ms/step - loss: 0.6001 - accuracy: 0.8491\n",
      "Epoch 3/10\n",
      "318/318 [==============================] - 0s 1ms/step - loss: 0.4375 - accuracy: 0.9057\n",
      "Epoch 4/10\n",
      "318/318 [==============================] - 0s 1ms/step - loss: 0.3523 - accuracy: 0.9214\n",
      "Epoch 5/10\n",
      "318/318 [==============================] - 0s 1ms/step - loss: 0.2930 - accuracy: 0.9308\n",
      "Epoch 6/10\n",
      "318/318 [==============================] - 0s 1ms/step - loss: 0.2531 - accuracy: 0.9371\n",
      "Epoch 7/10\n",
      "318/318 [==============================] - 0s 1ms/step - loss: 0.2504 - accuracy: 0.9308\n",
      "Epoch 8/10\n",
      "318/318 [==============================] - 0s 1ms/step - loss: 0.2308 - accuracy: 0.9403\n",
      "Epoch 9/10\n",
      "318/318 [==============================] - 0s 1ms/step - loss: 0.2290 - accuracy: 0.9371\n",
      "Epoch 10/10\n",
      "318/318 [==============================] - 1s 2ms/step - loss: 0.2198 - accuracy: 0.9403\n",
      "Model training took 16.43163800239563 seconds\n"
     ]
    }
   ],
   "source": [
    "start_time = time.time()\n",
    "lstm_3 = Sequential()\n",
    "lstm_3.add(LSTM(units=50, activation='tanh', return_sequences=True, input_shape=(1,nb_features)))\n",
    "lstm_3.add(Dropout(0.1))\n",
    "lstm_3.add(LSTM(units=20, activation='tanh', return_sequences=True))  \n",
    "lstm_3.add(Dropout(0.1))\n",
    "lstm_3.add(LSTM(units=10, activation='tanh', return_sequences=False))  \n",
    "lstm_3.add(Dropout(0.1))\n",
    "lstm_3.add(Dense(1, activation='sigmoid'))\n",
    "\n",
    "lstm_3.compile(loss='binary_crossentropy', optimizer='adam', metrics=['accuracy'])\n",
    "lstm_3.fit(X_train, y_train, epochs=10, batch_size=4)\n",
    "#lstm_3.save(\"logs/lstm_3_layer_model.hdf5\") #Uncomment to save the model\n",
    "print(\"Model training took {} seconds\".format(time.time()-start_time))"
   ]
  },
  {
   "cell_type": "code",
   "execution_count": 82,
   "metadata": {},
   "outputs": [
    {
     "name": "stdout",
     "output_type": "stream",
     "text": [
      "accuracy 0.900\n",
      "precision 0.894\n",
      "recall 0.933\n",
      "f-score 0.913\n",
      "Confusion Matrix\n",
      "[[30  5]\n",
      " [ 3 42]]\n"
     ]
    }
   ],
   "source": [
    "lstm_3_metrics = validation_scores(X_test, y_test, lstm_3, isDNN=True)"
   ]
  },
  {
   "cell_type": "markdown",
   "metadata": {},
   "source": [
    "### 4 Layers LSTM Model"
   ]
  },
  {
   "cell_type": "code",
   "execution_count": 83,
   "metadata": {},
   "outputs": [
    {
     "name": "stdout",
     "output_type": "stream",
     "text": [
      "Epoch 1/10\n",
      "318/318 [==============================] - 6s 17ms/step - loss: 0.6805 - accuracy: 0.6226\n",
      "Epoch 2/10\n",
      "318/318 [==============================] - 1s 2ms/step - loss: 0.4936 - accuracy: 0.8553\n",
      "Epoch 3/10\n",
      "318/318 [==============================] - 1s 2ms/step - loss: 0.3705 - accuracy: 0.9214\n",
      "Epoch 4/10\n",
      "318/318 [==============================] - 1s 2ms/step - loss: 0.3132 - accuracy: 0.9214\n",
      "Epoch 5/10\n",
      "318/318 [==============================] - 1s 2ms/step - loss: 0.2734 - accuracy: 0.9403\n",
      "Epoch 6/10\n",
      "318/318 [==============================] - 1s 2ms/step - loss: 0.2510 - accuracy: 0.9340\n",
      "Epoch 7/10\n",
      "318/318 [==============================] - 1s 2ms/step - loss: 0.2357 - accuracy: 0.9371\n",
      "Epoch 8/10\n",
      "318/318 [==============================] - 1s 2ms/step - loss: 0.2302 - accuracy: 0.9403\n",
      "Epoch 9/10\n",
      "318/318 [==============================] - 1s 2ms/step - loss: 0.2291 - accuracy: 0.9340\n",
      "Epoch 10/10\n",
      "318/318 [==============================] - 1s 2ms/step - loss: 0.2222 - accuracy: 0.9371\n",
      "Model training took 17.917245864868164 seconds\n"
     ]
    }
   ],
   "source": [
    "start_time = time.time()\n",
    "lstm_4 = Sequential()\n",
    "lstm_4.add(LSTM(units=100, activation='tanh', return_sequences=True, input_shape=(1,nb_features)))\n",
    "lstm_4.add(Dropout(0.1))\n",
    "lstm_4.add(LSTM(units=50, activation='tanh', return_sequences=True))  \n",
    "lstm_4.add(Dropout(0.1))\n",
    "lstm_4.add(LSTM(units=20, activation='tanh', return_sequences=True))  \n",
    "lstm_4.add(Dropout(0.1))\n",
    "lstm_4.add(LSTM(units=10, activation='tanh', return_sequences=False))  \n",
    "lstm_4.add(Dropout(0.1))\n",
    "lstm_4.add(Dense(1, activation='sigmoid'))\n",
    "\n",
    "lstm_4.compile(loss='binary_crossentropy', optimizer='adam', metrics=['accuracy'])\n",
    "lstm_4.fit(X_train, y_train, epochs=10, batch_size=4)\n",
    "#lstm_4.save(\"logs/lstm_4_layer_model.hdf5\") #Uncomment to save the model\n",
    "print(\"Model training took {} seconds\".format(time.time()-start_time))"
   ]
  },
  {
   "cell_type": "code",
   "execution_count": 84,
   "metadata": {},
   "outputs": [
    {
     "name": "stdout",
     "output_type": "stream",
     "text": [
      "accuracy 0.900\n",
      "precision 0.894\n",
      "recall 0.933\n",
      "f-score 0.913\n",
      "Confusion Matrix\n",
      "[[30  5]\n",
      " [ 3 42]]\n"
     ]
    }
   ],
   "source": [
    "lstm_4_metrics = validation_scores(X_test, y_test, lstm_4, isDNN=True)"
   ]
  },
  {
   "cell_type": "markdown",
   "metadata": {},
   "source": [
    "### 5 Layers LSTM Model"
   ]
  },
  {
   "cell_type": "code",
   "execution_count": 85,
   "metadata": {},
   "outputs": [
    {
     "name": "stdout",
     "output_type": "stream",
     "text": [
      "Epoch 1/10\n",
      "318/318 [==============================] - 6s 20ms/step - loss: 0.6836 - accuracy: 0.6132\n",
      "Epoch 2/10\n",
      "318/318 [==============================] - 1s 2ms/step - loss: 0.4675 - accuracy: 0.8962\n",
      "Epoch 3/10\n",
      "318/318 [==============================] - 1s 3ms/step - loss: 0.3584 - accuracy: 0.9214\n",
      "Epoch 4/10\n",
      "318/318 [==============================] - 1s 3ms/step - loss: 0.2887 - accuracy: 0.9371\n",
      "Epoch 5/10\n",
      "318/318 [==============================] - 1s 2ms/step - loss: 0.2530 - accuracy: 0.9340\n",
      "Epoch 6/10\n",
      "318/318 [==============================] - 1s 3ms/step - loss: 0.2366 - accuracy: 0.9340\n",
      "Epoch 7/10\n",
      "318/318 [==============================] - 1s 3ms/step - loss: 0.2342 - accuracy: 0.9340\n",
      "Epoch 8/10\n",
      "318/318 [==============================] - 1s 2ms/step - loss: 0.2168 - accuracy: 0.9340\n",
      "Epoch 9/10\n",
      "318/318 [==============================] - 1s 2ms/step - loss: 0.2241 - accuracy: 0.9403\n",
      "Epoch 10/10\n",
      "318/318 [==============================] - 1s 3ms/step - loss: 0.2276 - accuracy: 0.9371\n",
      "Model training took 23.856757879257202 seconds\n"
     ]
    }
   ],
   "source": [
    "start_time = time.time()\n",
    "lstm_5 = Sequential()\n",
    "lstm_5.add(LSTM(units=200, activation='tanh', return_sequences=True, input_shape=(1,nb_features)))\n",
    "lstm_5.add(Dropout(0.1))\n",
    "lstm_5.add(LSTM(units=100, activation='tanh', return_sequences=True))  \n",
    "lstm_5.add(Dropout(0.1))\n",
    "lstm_5.add(LSTM(units=50, activation='tanh', return_sequences=True))  \n",
    "lstm_5.add(Dropout(0.1))\n",
    "lstm_5.add(LSTM(units=20, activation='tanh', return_sequences=True))  \n",
    "lstm_5.add(Dropout(0.1))\n",
    "lstm_5.add(LSTM(units=10, activation='tanh', return_sequences=False))  \n",
    "lstm_5.add(Dropout(0.1))\n",
    "lstm_5.add(Dense(1, activation='sigmoid'))\n",
    "\n",
    "lstm_5.compile(loss='binary_crossentropy', optimizer='adam', metrics=['accuracy'])\n",
    "lstm_5.fit(X_train, y_train, epochs=10, batch_size=4)\n",
    "#lstm_5.save(\"logs/lstm_5_layer_model.hdf5\") #Uncomment to save the model\n",
    "print(\"Model training took {} seconds\".format(time.time()-start_time))"
   ]
  },
  {
   "cell_type": "code",
   "execution_count": 86,
   "metadata": {},
   "outputs": [
    {
     "name": "stdout",
     "output_type": "stream",
     "text": [
      "accuracy 0.900\n",
      "precision 0.894\n",
      "recall 0.933\n",
      "f-score 0.913\n",
      "Confusion Matrix\n",
      "[[30  5]\n",
      " [ 3 42]]\n"
     ]
    }
   ],
   "source": [
    "lstm_5_metrics = validation_scores(X_test, y_test, lstm_5, isDNN=True)"
   ]
  },
  {
   "cell_type": "markdown",
   "metadata": {},
   "source": [
    "### Metrics Visualization"
   ]
  },
  {
   "cell_type": "code",
   "execution_count": 87,
   "metadata": {},
   "outputs": [
    {
     "data": {
      "text/plain": [
       "<matplotlib.legend.Legend at 0x194be51dd8>"
      ]
     },
     "execution_count": 87,
     "metadata": {},
     "output_type": "execute_result"
    },
    {
     "data": {
      "image/png": "[encoded data removed]",
      "text/plain": [
       "<Figure size 432x288 with 1 Axes>"
      ]
     },
     "metadata": {
      "needs_background": "light"
     },
     "output_type": "display_data"
    }
   ],
   "source": [
    "import matplotlib.pyplot as plt\n",
    "data = [lg_metrics, gnb_metrics, sgd_metrics, dt_metrics, rfc_metrics, svc_metrics, \n",
    "        lstm_1_metrics, lstm_2_metrics, lstm_3_metrics, lstm_4_metrics, lstm_5_metrics]\n",
    "lagends = [\"Logistic Regression\", \"Naive Bayes\", \"Stochastic Gradient Descent\", \"Decision Tree\", \n",
    "           \"Random Forest\", \"Support Vector Machines\", \"LSTM_1\", \"LSTM_2\", \"LSTM_3\", \"LSTM_4\", \"LSTM_5\"]\n",
    "\n",
    "bar_width = 0.08\n",
    "X = np.arange(4)\n",
    "fig = plt.figure()\n",
    "ax = fig.add_axes([0,0,1,1])\n",
    "plt.xticks(X+0.45, ['Accuracy','Precision','Recall','F1_score'])\n",
    "ax.bar(X + 0*(bar_width), data[0], color = '#4d94ff', width = bar_width)\n",
    "ax.bar(X + 1*(bar_width), data[1], color = '#5cd6d6', width = bar_width)\n",
    "ax.bar(X + 2*(bar_width), data[2], color = '#33ffad', width = bar_width)\n",
    "ax.bar(X + 3*(bar_width), data[3], color = '#00802b', width = bar_width)\n",
    "ax.bar(X + 4*(bar_width), data[4], color = '#999966', width = bar_width)\n",
    "ax.bar(X + 5*(bar_width), data[5], color = '#b300b3', width = bar_width)\n",
    "ax.bar(X + 6*(bar_width), data[6], color = '#ff9999', width = bar_width)\n",
    "ax.bar(X + 7*(bar_width), data[7], color = '#ff4d4d', width = bar_width)\n",
    "ax.bar(X + 8*(bar_width), data[8], color = '#ff0000', width = bar_width)\n",
    "ax.bar(X + 9*(bar_width), data[9], color = '#b30000', width = bar_width)\n",
    "ax.bar(X + 10*(bar_width), data[10], color = '#660000', width = bar_width)\n",
    "plt.legend(lagends, bbox_to_anchor=(1, 1))"
   ]
  },
  {
   "cell_type": "code",
   "execution_count": null,
   "metadata": {},
   "outputs": [],
   "source": []
  }
 ],
 "metadata": {
  "kernelspec": {
   "display_name": "Python 3",
   "language": "python",
   "name": "python3"
  },
  "language_info": {
   "codemirror_mode": {
    "name": "ipython",
    "version": 3
   },
   "file_extension": ".py",
   "mimetype": "text/x-python",
   "name": "python",
   "nbconvert_exporter": "python",
   "pygments_lexer": "ipython3",
   "version": "3.6.8"
  }
 },
 "nbformat": 4,
 "nbformat_minor": 4
}
